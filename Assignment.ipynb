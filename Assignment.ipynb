{
 "cells": [
  {
   "cell_type": "markdown",
   "metadata": {},
   "source": [
    "# COMP2002 Main Assignment\n",
    "Machine Learning and Evolutionary Computation"
   ]
  },
  {
   "cell_type": "code",
   "execution_count": 107,
   "metadata": {},
   "outputs": [],
   "source": [
    "import pandas\n",
    "import numpy as np\n",
    "from matplotlib import pyplot as plt\n",
    "from sklearn.preprocessing import MinMaxScaler\n",
    "from sklearn.model_selection import train_test_split\n",
    "from sklearn.model_selection import cross_val_score\n",
    "from sklearn.model_selection import RepeatedKFold\n",
    "from sklearn.ensemble import RandomForestRegressor\n",
    "from sklearn.neural_network import MLPRegressor\n",
    "from sklearn.svm import SVR\n",
    "from sklearn.metrics import mean_absolute_error"
   ]
  },
  {
   "cell_type": "markdown",
   "metadata": {},
   "source": [
    "## Part 1- Machine Learning"
   ]
  },
  {
   "cell_type": "markdown",
   "metadata": {},
   "source": [
    "### 1.1 Data Preparation\n",
    "The forest fire datasets are CSVs with the following fields:\n",
    "<table><tr>\n",
    "    <td>Day</td>\n",
    "    <td>Month</td>\n",
    "    <td>Year</td>\n",
    "    <td>Temperature (degrees C)</td>\n",
    "    <td>RH (Relative Humidity, %)</td>\n",
    "    <td>WS (Wind speed, kmph)</td>\n",
    "    <td>Rain (Total for day, mm)</td>\n",
    "    <td>FFMC (Fine Fuel Moisture Code index)</td>\n",
    "    <td>DMC (Duff Moisture Code index)</td>\n",
    "    <td>DC (Drought Code index)</td>\n",
    "    <td>ISI (Initial Spread Index)</td>\n",
    "    <td>BUI (Buildup Index)</td>\n",
    "    <td>FWI (Fire Weather Index)</td></tr></table>"
   ]
  },
  {
   "cell_type": "code",
   "execution_count": 108,
   "metadata": {},
   "outputs": [],
   "source": [
    "# Read in forest fire datasets\n",
    "ff_region1 = pandas.read_csv(\"datasets/AlgerianFF_Region1.csv\")\n",
    "ff_region2 = pandas.read_csv(\"datasets/AlgerianFF_Region2.csv\")\n",
    "ff_combined = pandas.concat([ff_region1, ff_region2])\n",
    "# Normalise the data so that all features are in range 0-1, while also removing the year (every value is the same so it is not useful)\n",
    "scaler = MinMaxScaler()  # Range 0-1 is default\n",
    "ff_combined_inputs = scaler.fit_transform(ff_combined[[\"month\", \"Temperature\", \" RH\", \" Ws\", \"Rain \", \"FFMC\", \"DMC\", \"DC\", \"ISI\", \"BUI\"]])\n",
    "# Randomly split into training and testing data (random_state given so that the same shuffle will be done on each run, making results reproducible)\n",
    "ff_train_inputs, ff_test_inputs, ff_train_targets, ff_test_targets = train_test_split(ff_combined_inputs, ff_combined[\"FWI\"], shuffle=True, random_state=1)"
   ]
  },
  {
   "cell_type": "markdown",
   "metadata": {},
   "source": [
    "- The datasets for the two regions were combined and then randomly split into testing and training data (as opposed to using one region for training and the other for testing) in case there are any features that are not in the dataset that differentiate the two regions which could cause the models to overfit to the training region"
   ]
  },
  {
   "cell_type": "markdown",
   "metadata": {},
   "source": [
    "### 1.2 Regression"
   ]
  },
  {
   "cell_type": "code",
   "execution_count": 109,
   "metadata": {},
   "outputs": [
    {
     "data": {
      "text/plain": [
       "RandomForestRegressor()"
      ]
     },
     "execution_count": 109,
     "metadata": {},
     "output_type": "execute_result"
    }
   ],
   "source": [
    "# Random Forest Regressor\n",
    "RF_regressor = RandomForestRegressor()\n",
    "RF_regressor.fit(ff_train_inputs, ff_train_targets)"
   ]
  },
  {
   "cell_type": "code",
   "execution_count": 110,
   "metadata": {},
   "outputs": [
    {
     "data": {
      "text/plain": [
       "MLPRegressor(max_iter=6000, solver='lbfgs')"
      ]
     },
     "execution_count": 110,
     "metadata": {},
     "output_type": "execute_result"
    }
   ],
   "source": [
    "# Neural Network\n",
    "NN_regressor = MLPRegressor(max_iter=6000, solver=\"lbfgs\")\n",
    "NN_regressor.fit(ff_train_inputs, ff_train_targets)"
   ]
  },
  {
   "cell_type": "code",
   "execution_count": 111,
   "metadata": {},
   "outputs": [
    {
     "data": {
      "text/plain": [
       "SVR()"
      ]
     },
     "execution_count": 111,
     "metadata": {},
     "output_type": "execute_result"
    }
   ],
   "source": [
    "# Support Vector Machine\n",
    "SVM_regressor = SVR()\n",
    "SVM_regressor.fit(ff_train_inputs, ff_train_targets)"
   ]
  },
  {
   "attachments": {
    "Day%20removed%20from%20dataset.png": {
     "image/png": "[encoded data removed]"
    }
   },
   "cell_type": "markdown",
   "metadata": {},
   "source": [
    "#### Tuning\n",
    "##### Data Preparation\n",
    "- Removed day from input data to see if this improved generalisability\n",
    "    - The difference was negligible so day was not put back to improve compute time\n",
    "- Tried using PCA with between 2 and 9 principal components\n",
    "    - Even with 9 components, cross validation performance was considerably worse for all three models, so PCA was removed\n",
    "\n",
    "##### Random Forest\n",
    "- Increased `n_estimators` to 500, but performance impact was negligible, so it was reverted back to the default (100) as it increased compute time considerably\n",
    "- Experimented with the different presets for `max_features` as having it too high can cause overfitting (Jermain, 2019)\n",
    "    - Both \"sqrt\" and \"log2\" resulted in higher maximums on the boxplot, and caused the plot to skew towards higher values. The model was therefore reverted back to \"auto\" (which sets `max_features` to however many features there are)\n",
    "- Experimented with different values for `max_depth` as the default value is no maximum depth, and having the depth too high can allow overfitting (Jermain, 2019)\n",
    "    - Started from `max_depth=1` and worked upwards\n",
    "    - Cross validation performance was much poorer but quickly improved as `max_depth` was incremented.  At `max_depth=5` the difference in performance compared with no maximum depth was negligible\n",
    "    - But increasing `max_depth` further gave no further performance improvement, suggesting that the unlimited maximum depth is not causing overfitting.  It was therefore reverted back to the default\n",
    "- Changed `min_samples_split`\n",
    "    - Setting it to 5 (as opposed to the default of 2) had no impact on performance, but setting it to 10 reduced performance slightly so it was reverted back to the default\n",
    "- Changed `min_samples_leaf`\n",
    "    - Began increasing it from the default of 1.  This had no impact until it reached 5, at which point performance started to get worse so it was reverted back to the default\n",
    "- Changed `max_leaf_nodes`\n",
    "    - Initially this made performance worse, but by `max_leaf_nodes=20` it was not noticably different from the default.  Further increasing provided no performance gain so the parameter was reverted back to the default\n",
    "\n",
    "Tuning seems to have little effect on the Random Forest, which is in keeping with its reputation for having good performance \"out of the box\" (Boehmke and Greenwell, 2020).\n",
    "\n",
    "##### Neural Network\n",
    "- The Neural Network model initially performed far worse than the other two, and was displaying \"Convergence Warnings\"\n",
    "![Day%20removed%20from%20dataset.png](attachment:Day%20removed%20from%20dataset.png)\n",
    "- This indicated that the model was reaching the maximum number of iterations before it was trained to a suitable level, meaning that the model could do better if it was allowed enough iterations\n",
    "    - Starting from 500, the `max_iter` parameter was increased in large increments until the convergence warning stopped appearing.  When testing with `max_iter=5750` the model still showed the warning on one of the `RepeatedKFold` repeats so it was set to 6000 to give plenty of room for random variations in the number of iterations needed\n",
    "    - The cross validation performance improved each time `max_iter` was incremented up until the convergence warnings stopped.  This suggests that not limiting the iterations is not causing overfitting.\n",
    "        - Therefore `early_stopping` was not set to true\n",
    "- Tried each of the activation functions offered by `MLPRegressor` but reverted back to the default (\"relu\")\n",
    "    - \"identity\" gave worse cross validation results\n",
    "    - \"logistic\" and \"tanh\" both gave convergence warnings.  It was decided that allowing any more iterations would take an unacceptable amount of compute time\n",
    "- Tried each of the solvers offered\n",
    "    - \"sgd\" was the least performant with a median MAE on the boxplot of around 0.6, compared to just under 0.4 for \"adam\" (the default)\n",
    "    - \"lbfgs\" had a lower median (around 0.3) than \"adam\" and was skewed towards lower values so was kept\n",
    "- Changing `alpha` had a negligible effect\n",
    "\n",
    "Unlike the Random Forest, the Neural Network benefited greatly from tuning.  Before tuning it was by far the least performant of the three models, but after it was the best.  Most of this improvement came from increasing the maximum iterations, but changing the solver also had a small impact."
   ]
  },
  {
   "cell_type": "markdown",
   "metadata": {},
   "source": [
    "### 1.3 Assessment of Regression\n",
    "\n",
    "First, cross validation is used on the training data.  The results of this are then used to adjust the hyperparameters to improve performance.\n",
    "- This is not done using the test data as otherwise the models might overfit to the test dataset (as it was used to tune the hyperparameters) so the test data would no longer give a reliable indication of how well the models generalise.\n",
    "\n",
    "Once adjusting the hyperparameters no longer improves preformance on cross validation, the models are tested on the test data"
   ]
  },
  {
   "cell_type": "code",
   "execution_count": 112,
   "metadata": {
    "scrolled": true
   },
   "outputs": [
    {
     "data": {
      "image/png": "[encoded data removed]",
      "text/plain": [
       "<Figure size 432x288 with 1 Axes>"
      ]
     },
     "metadata": {
      "needs_background": "light"
     },
     "output_type": "display_data"
    }
   ],
   "source": [
    "# Perform 5-fold cross validation. Done 5 times to reduce noise to get a result that is more comparable across runs.  random_state provided for reproducibility\n",
    "cv = RepeatedKFold(n_repeats=5, random_state=1)\n",
    "RF_scores = cross_val_score(RF_regressor, ff_train_inputs, ff_train_targets, scoring=\"neg_mean_absolute_error\", cv=cv) * -1 # Uses the metrics.mean_absolute_error function to generate scores\n",
    "NN_scores = cross_val_score(NN_regressor, ff_train_inputs, ff_train_targets, scoring=\"neg_mean_absolute_error\", cv=cv) * -1  # The scores used by cross_val_score are negative so must be flipped to positive\n",
    "SVM_scores = cross_val_score(SVM_regressor, ff_train_inputs, ff_train_targets, scoring=\"neg_mean_absolute_error\", cv=cv) * -1\n",
    "\n",
    "# Plot MAE from cross validation of each model as boxplots\n",
    "plt.title(\"Cross Validation Mean Absolute Error\")\n",
    "plt.boxplot([RF_scores, NN_scores, SVM_scores], labels=[\"Random Forest\", \"Neural Network\", \"Support Vector Machine\"])\n",
    "plt.xlabel(\"Model\")\n",
    "plt.ylabel(\"Mean Absolute Error rate\")\n",
    "plt.show()"
   ]
  },
  {
   "cell_type": "code",
   "execution_count": null,
   "metadata": {},
   "outputs": [],
   "source": []
  },
  {
   "cell_type": "markdown",
   "metadata": {},
   "source": [
    "# References\n",
    "Jermain, N., 2019. Optimizing Hyperparameters for Random Forest Algorithms in scikit-learn. [Blog] Open Data Science, Available at: https://opendatascience.com/optimizing-hyperparameters-for-random-forest-algorithms-in-scikit-learn/ [Accessed 22 April 2021].\n",
    "\n",
    "Boehmke, B. and Greenwell, B., 2020. Hands-On Machine Learning with R. [ebook] Chapter 11. Available at: https://bradleyboehmke.github.io/HOML/ [Accessed 25 April 2021]."
   ]
  },
  {
   "cell_type": "code",
   "execution_count": null,
   "metadata": {},
   "outputs": [],
   "source": []
  }
 ],
 "metadata": {
  "kernelspec": {
   "display_name": "Python 3",
   "language": "python",
   "name": "python3"
  },
  "language_info": {
   "codemirror_mode": {
    "name": "ipython",
    "version": 3
   },
   "file_extension": ".py",
   "mimetype": "text/x-python",
   "name": "python",
   "nbconvert_exporter": "python",
   "pygments_lexer": "ipython3",
   "version": "3.7.1"
  }
 },
 "nbformat": 4,
 "nbformat_minor": 2
}
