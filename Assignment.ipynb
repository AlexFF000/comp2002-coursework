{
 "cells": [
  {
   "cell_type": "markdown",
   "metadata": {},
   "source": [
    "# COMP2002 Main Assignment\n",
    "Machine Learning and Evolutionary Computation"
   ]
  },
  {
   "cell_type": "code",
   "execution_count": 11,
   "metadata": {},
   "outputs": [],
   "source": [
    "import pandas\n",
    "import numpy as np\n",
    "from matplotlib import pyplot as plt\n",
    "from sklearn.preprocessing import MinMaxScaler\n",
    "from sklearn.model_selection import train_test_split\n",
    "from sklearn.model_selection import cross_val_score\n",
    "from sklearn.ensemble import RandomForestRegressor\n",
    "from sklearn.neural_network import MLPRegressor\n",
    "from sklearn.svm import SVR\n",
    "from sklearn.metrics import mean_absolute_error"
   ]
  },
  {
   "cell_type": "markdown",
   "metadata": {},
   "source": [
    "## Part 1- Machine Learning"
   ]
  },
  {
   "cell_type": "markdown",
   "metadata": {},
   "source": [
    "### 1.1 Data Preparation\n",
    "The forest fire datasets are CSVs with the following fields:\n",
    "<table><tr>\n",
    "    <td>Day</td>\n",
    "    <td>Month</td>\n",
    "    <td>Year</td>\n",
    "    <td>Temperature (degrees C)</td>\n",
    "    <td>RH (Relative Humidity, %)</td>\n",
    "    <td>WS (Wind speed, kmph)</td>\n",
    "    <td>Rain (Total for day, mm)</td>\n",
    "    <td>FFMC (Fine Fuel Moisture Code index)</td>\n",
    "    <td>DMC (Duff Moisture Code index)</td>\n",
    "    <td>DC (Drought Code index)</td>\n",
    "    <td>ISI (Initial Spread Index)</td>\n",
    "    <td>BUI (Buildup Index)</td>\n",
    "    <td>FWI (Fire Weather Index)</td></tr></table>"
   ]
  },
  {
   "cell_type": "code",
   "execution_count": 12,
   "metadata": {},
   "outputs": [],
   "source": [
    "# Read in forest fire datasets\n",
    "ff_region1 = pandas.read_csv(\"datasets/AlgerianFF_Region1.csv\")\n",
    "ff_region2 = pandas.read_csv(\"datasets/AlgerianFF_Region2.csv\")\n",
    "ff_combined = pandas.concat([ff_region1, ff_region2])\n",
    "# Normalise the data so that all features are in range 0-1, while also removing the year (every value is the same so it is not useful)\n",
    "scaler = MinMaxScaler()  # Range 0-1 is default\n",
    "ff_combined_inputs = scaler.fit_transform(ff_combined[[\"day\", \"month\", \"Temperature\", \" RH\", \" Ws\", \"Rain \", \"FFMC\", \"DMC\", \"DC\", \"ISI\", \"BUI\"]])\n",
    "# Randomly split into training and testing data\n",
    "ff_train_inputs, ff_test_inputs, ff_train_targets, ff_test_targets = train_test_split(ff_combined_inputs, ff_combined[\"FWI\"], shuffle=True)"
   ]
  },
  {
   "cell_type": "markdown",
   "metadata": {},
   "source": [
    "- The datasets for the two regions were combined and then randomly split into testing and training data (as opposed to using one region for training and the other for testing) in case there are any features that are not in the dataset that differentiate the two regions which could cause the models to overfit to the training region"
   ]
  },
  {
   "cell_type": "markdown",
   "metadata": {},
   "source": [
    "### 1.2 Regression"
   ]
  },
  {
   "cell_type": "code",
   "execution_count": 13,
   "metadata": {},
   "outputs": [
    {
     "data": {
      "text/plain": [
       "RandomForestRegressor()"
      ]
     },
     "execution_count": 13,
     "metadata": {},
     "output_type": "execute_result"
    }
   ],
   "source": [
    "# Random Forest Regressor\n",
    "RF_regressor = RandomForestRegressor()\n",
    "RF_regressor.fit(ff_train_inputs, ff_train_targets)"
   ]
  },
  {
   "cell_type": "code",
   "execution_count": 14,
   "metadata": {},
   "outputs": [
    {
     "name": "stderr",
     "output_type": "stream",
     "text": [
      "c:\\users\\alex\\appdata\\local\\programs\\python\\python37-32\\lib\\site-packages\\sklearn\\neural_network\\_multilayer_perceptron.py:617: ConvergenceWarning: Stochastic Optimizer: Maximum iterations (200) reached and the optimization hasn't converged yet.\n",
      "  % self.max_iter, ConvergenceWarning)\n"
     ]
    },
    {
     "data": {
      "text/plain": [
       "MLPRegressor()"
      ]
     },
     "execution_count": 14,
     "metadata": {},
     "output_type": "execute_result"
    }
   ],
   "source": [
    "# Neural Network\n",
    "NN_regressor = MLPRegressor()\n",
    "NN_regressor.fit(ff_train_inputs, ff_train_targets)"
   ]
  },
  {
   "cell_type": "code",
   "execution_count": 15,
   "metadata": {},
   "outputs": [
    {
     "data": {
      "text/plain": [
       "SVR()"
      ]
     },
     "execution_count": 15,
     "metadata": {},
     "output_type": "execute_result"
    }
   ],
   "source": [
    "# Support Vector Machine\n",
    "SVM_regressor = SVR()\n",
    "SVM_regressor.fit(ff_train_inputs, ff_train_targets)"
   ]
  },
  {
   "cell_type": "markdown",
   "metadata": {},
   "source": [
    "### 1.3 Assessment of Regression\n",
    "\n",
    "First, cross validation is used on the training data.  The results of this are then used to adjust the hyperparameters to improve performance.\n",
    "- This is not done using the test data as otherwise the models might overfit to the test dataset (as it was used to tune the hyperparameters) so the test data would no longer give a reliable indication of how well the models generalise.\n",
    "\n",
    "Once adjusting the hyperparameters no longer improves preformance on cross validation, the models are tested on the test data"
   ]
  },
  {
   "cell_type": "code",
   "execution_count": 16,
   "metadata": {},
   "outputs": [
    {
     "name": "stderr",
     "output_type": "stream",
     "text": [
      "c:\\users\\alex\\appdata\\local\\programs\\python\\python37-32\\lib\\site-packages\\sklearn\\neural_network\\_multilayer_perceptron.py:617: ConvergenceWarning: Stochastic Optimizer: Maximum iterations (200) reached and the optimization hasn't converged yet.\n",
      "  % self.max_iter, ConvergenceWarning)\n",
      "c:\\users\\alex\\appdata\\local\\programs\\python\\python37-32\\lib\\site-packages\\sklearn\\neural_network\\_multilayer_perceptron.py:617: ConvergenceWarning: Stochastic Optimizer: Maximum iterations (200) reached and the optimization hasn't converged yet.\n",
      "  % self.max_iter, ConvergenceWarning)\n",
      "c:\\users\\alex\\appdata\\local\\programs\\python\\python37-32\\lib\\site-packages\\sklearn\\neural_network\\_multilayer_perceptron.py:617: ConvergenceWarning: Stochastic Optimizer: Maximum iterations (200) reached and the optimization hasn't converged yet.\n",
      "  % self.max_iter, ConvergenceWarning)\n",
      "c:\\users\\alex\\appdata\\local\\programs\\python\\python37-32\\lib\\site-packages\\sklearn\\neural_network\\_multilayer_perceptron.py:617: ConvergenceWarning: Stochastic Optimizer: Maximum iterations (200) reached and the optimization hasn't converged yet.\n",
      "  % self.max_iter, ConvergenceWarning)\n",
      "c:\\users\\alex\\appdata\\local\\programs\\python\\python37-32\\lib\\site-packages\\sklearn\\neural_network\\_multilayer_perceptron.py:617: ConvergenceWarning: Stochastic Optimizer: Maximum iterations (200) reached and the optimization hasn't converged yet.\n",
      "  % self.max_iter, ConvergenceWarning)\n"
     ]
    },
    {
     "data": {
      "image/png": "[encoded data removed]",
      "text/plain": [
       "<Figure size 432x288 with 1 Axes>"
      ]
     },
     "metadata": {
      "needs_background": "light"
     },
     "output_type": "display_data"
    }
   ],
   "source": [
    "# Perform 5-fold cross validation 5 times and use the average to create a boxplot\n",
    "RF_scores = cross_val_score(RF_regressor, ff_train_inputs, ff_train_targets, scoring=\"neg_mean_absolute_error\") * -1 # Use the metrics.mean_absolute_error function to generate scores.\n",
    "NN_scores = cross_val_score(NN_regressor, ff_train_inputs, ff_train_targets, scoring=\"neg_mean_absolute_error\") * -1  # The scores used by cross_val_score are negative so must be flipped to positive\n",
    "SVM_scores = cross_val_score(SVM_regressor, ff_train_inputs, ff_train_targets, scoring=\"neg_mean_absolute_error\") * -1\n",
    "\n",
    "# Plot MAE from cross validation of each model as boxplots\n",
    "plt.title(\"Cross Validation Mean Absolute Error\")\n",
    "plt.boxplot([RF_scores, NN_scores, SVM_scores], labels=[\"Random Forest\", \"Neural Network\", \"Support Vector Machine\"])\n",
    "plt.xlabel(\"Model\")\n",
    "plt.ylabel(\"Mean Absolute Error rate\")\n",
    "plt.show()"
   ]
  },
  {
   "cell_type": "code",
   "execution_count": null,
   "metadata": {},
   "outputs": [],
   "source": []
  },
  {
   "cell_type": "code",
   "execution_count": null,
   "metadata": {},
   "outputs": [],
   "source": []
  }
 ],
 "metadata": {
  "kernelspec": {
   "display_name": "Python 3",
   "language": "python",
   "name": "python3"
  },
  "language_info": {
   "codemirror_mode": {
    "name": "ipython",
    "version": 3
   },
   "file_extension": ".py",
   "mimetype": "text/x-python",
   "name": "python",
   "nbconvert_exporter": "python",
   "pygments_lexer": "ipython3",
   "version": "3.7.1"
  }
 },
 "nbformat": 4,
 "nbformat_minor": 2
}
